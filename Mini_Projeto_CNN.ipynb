{
 "cells": [
  {
   "cell_type": "markdown",
   "source": "# Reconhecimento de Dígitos com CNNs 🔢\n\nUm treinamento de uma rede CNN para reconhecer digitos manuscritos usando a base de dados MNIST, apresentando taxas de acerto totais (precision, recall e accuracy) e por classe (accuracy).\n\nFeito por: \n- Gabriel Kristian Queiroz de Souza Jales, \n- Josué Fidelis de Oliveira Neto,\n- Leão Liu Masur,\n- Luana Porciuncula Barreto.",
   "metadata": {
    "tags": [],
    "cell_id": "00000-2ba8c413-e9a4-479b-b099-377c87030388",
    "deepnote_cell_type": "markdown"
   }
  },
  {
   "cell_type": "code",
   "metadata": {
    "id": "6B3rLjlDRh8E",
    "colab": {
     "base_uri": "https://localhost:8080/"
    },
    "outputId": "ab7a9c90-a146-4e1a-ead0-fd9e98124670",
    "cell_id": "00000-686b07b3-813a-426e-92e2-c90d968ffca4",
    "output_cleared": true,
    "deepnote_cell_type": "code"
   },
   "source": "!pip install -qU ipdb",
   "execution_count": null,
   "outputs": []
  },
  {
   "cell_type": "code",
   "metadata": {
    "colab": {
     "base_uri": "https://localhost:8080/"
    },
    "id": "QZfYdWar13di",
    "outputId": "1df83461-6b6e-4b8d-8531-114c50fab172",
    "cell_id": "00001-46c36410-107f-457e-b1dc-421394261796",
    "output_cleared": true,
    "deepnote_cell_type": "code"
   },
   "source": "!pip install mlxtend --upgrade --no-deps",
   "execution_count": null,
   "outputs": []
  },
  {
   "cell_type": "code",
   "metadata": {
    "id": "_M9ho_SjKNat",
    "cell_id": "00002-c5ad92a0-310e-4d3f-b823-56aff96e8bf7",
    "deepnote_to_be_reexecuted": false,
    "source_hash": "f8e7cfd3",
    "execution_start": 1636077087326,
    "execution_millis": 7186,
    "deepnote_cell_type": "code"
   },
   "source": "import torch\nimport numpy as np\nimport torch.backends.cudnn as cudnn\nimport torchvision.datasets as datasets\nimport torchvision.transforms as transforms\nfrom torch.utils.data.dataloader import DataLoader\nimport torch.optim as optim\nimport matplotlib.pyplot as plt\nfrom sklearn.metrics import classification_report, confusion_matrix\nfrom mlxtend.plotting import plot_confusion_matrix\nimport copy\nimport ipdb\nimport pickle\n\nuse_gpu = torch.cuda.is_available()",
   "execution_count": null,
   "outputs": []
  },
  {
   "cell_type": "code",
   "metadata": {
    "colab": {
     "base_uri": "https://localhost:8080/"
    },
    "id": "k64OTNC0WhNu",
    "outputId": "78d4b0d3-e3d6-42f7-cf10-e54fa375739a",
    "cell_id": "00003-ed19e12e-0ee9-4676-8be1-34504782dba0",
    "deepnote_cell_type": "code"
   },
   "source": "!nvidia-smi",
   "execution_count": null,
   "outputs": [
    {
     "output_type": "stream",
     "name": "stdout",
     "text": "Tue Nov  2 19:20:16 2021       \n+-----------------------------------------------------------------------------+\n| NVIDIA-SMI 495.44       Driver Version: 460.32.03    CUDA Version: 11.2     |\n|-------------------------------+----------------------+----------------------+\n| GPU  Name        Persistence-M| Bus-Id        Disp.A | Volatile Uncorr. ECC |\n| Fan  Temp  Perf  Pwr:Usage/Cap|         Memory-Usage | GPU-Util  Compute M. |\n|                               |                      |               MIG M. |\n|===============================+======================+======================|\n|   0  Tesla K80           Off  | 00000000:00:04.0 Off |                    0 |\n| N/A   73C    P0    75W / 149W |    559MiB / 11441MiB |      0%      Default |\n|                               |                      |                  N/A |\n+-------------------------------+----------------------+----------------------+\n                                                                               \n+-----------------------------------------------------------------------------+\n| Processes:                                                                  |\n|  GPU   GI   CI        PID   Type   Process name                  GPU Memory |\n|        ID   ID                                                   Usage      |\n|=============================================================================|\n|  No running processes found                                                 |\n+-----------------------------------------------------------------------------+\n"
    }
   ]
  },
  {
   "cell_type": "markdown",
   "source": "**Carregando e Divisão de Dados**\n\nComo nesta parte do projeto irá ser utilizado o pytorch, os dados serão carregados diretos pela bilbioteca de datasets do próprio pytorch para facilitar a integração. Também foi verificado que eles se tratam dos mesmo dados que foram utilizados na primeira parte do projeto.",
   "metadata": {
    "id": "Bx64mbsTpc4d",
    "cell_id": "00004-bbd9c376-79be-4a05-af62-3b45cc5639ed",
    "deepnote_cell_type": "markdown"
   }
  },
  {
   "cell_type": "code",
   "metadata": {
    "id": "HxCyVPOqj6kK",
    "cell_id": "00005-506da881-4853-4c83-acc8-c2bf4d31f170",
    "deepnote_cell_type": "code"
   },
   "source": "# Converte os dados para um FloatTensor \ntransform = transforms.ToTensor()\n\n# Escolhe os dados de treino e teste\ntrain_data = datasets.MNIST(root=\"datasets\", train=True,\n                              download=True, transform=transform)\ntest_data = datasets.MNIST(root=\"datasets\", train=False,\n                             download=True, transform=transform)\n\ntrain_data, val_data = torch.utils.data.random_split(train_data, [50000, 10000])",
   "execution_count": null,
   "outputs": []
  },
  {
   "cell_type": "code",
   "metadata": {
    "id": "yqeaBDcbjrmQ",
    "cell_id": "00006-2b653c16-c7cd-427d-80b1-1c47c2083216",
    "deepnote_cell_type": "code"
   },
   "source": "# Define o carregamento dos dados utilizado os dados escolhidos\nbatch_size = 32\ntrain_loader = DataLoader(train_data, batch_size=batch_size, shuffle=True)\nval_loader = DataLoader(val_data)\ntest_loader = DataLoader(test_data)",
   "execution_count": null,
   "outputs": []
  },
  {
   "cell_type": "markdown",
   "source": "**Visualização dos dados**",
   "metadata": {
    "id": "Dn8yxkXCp5NY",
    "cell_id": "00007-15a7332b-e00b-43f8-98fb-5420af839929",
    "deepnote_cell_type": "markdown"
   }
  },
  {
   "cell_type": "code",
   "metadata": {
    "id": "Yj8uCsJiqQ0D",
    "colab": {
     "base_uri": "https://localhost:8080/",
     "height": 282
    },
    "outputId": "58718e94-b677-42c8-932e-95931af69d9c",
    "cell_id": "00008-46f4f44e-0520-488f-b66c-830ee5b8e935",
    "deepnote_cell_type": "code"
   },
   "source": "visualization = copy.deepcopy(test_data)\nvisualization.transform = None\n\nindex = 0\nimage, label = visualization[index]\nplt.imshow(image, cmap='gray')\nprint('Label:', label)",
   "execution_count": null,
   "outputs": [
    {
     "output_type": "stream",
     "name": "stdout",
     "text": "Label: 7\n"
    },
    {
     "output_type": "display_data",
     "data": {
      "image/png": "[encoded data removed]",
      "text/plain": "<Figure size 432x288 with 1 Axes>"
     },
     "metadata": {
      "needs_background": "light",
      "image/png": {
       "width": 251,
       "height": 248
      }
     }
    }
   ]
  },
  {
   "cell_type": "markdown",
   "source": "**Definição do Modelo**\n\nPara a definção da topologia, usaremos 3 camadas de convolução, com canais de saída 16, 32 e 64 respectivamente. Cada uma com a função de ativação ReLU, tamanho do kernel 3x3, padding de 1 e um max pooling 2x2.\n\nNa ultima convolução teremos 64 canais com tamanho 3x3, onde eles serão *flatten* para um vetor 64x3x3 e passado numa camada de dropout com probabilidade de 25%.\n\nA partir desse ponto teremos duas redes diferentes:\n\n- **1** - Passar direto o vetor resultante para a camada de saída com 10 neuronios\n- **2** - Ter uma camada com 500 neuronios entre a convolução e a saída.",
   "metadata": {
    "id": "ChuSPXSFldTm",
    "cell_id": "00009-7c138954-18fc-49bd-8e62-fc4972da8e87",
    "deepnote_cell_type": "markdown"
   }
  },
  {
   "cell_type": "code",
   "metadata": {
    "id": "C867WoGeJGsx",
    "cell_id": "00010-5bc8f04e-039c-45a4-861b-94ec467d3dbb",
    "deepnote_cell_type": "code"
   },
   "source": "import torch.nn as nn\n\nclass CNN(nn.Module):\n    def __init__(self, net_type=1):\n        super(CNN, self).__init__()\n\n        self.net_type = net_type\n\n        self.conv1 = nn.Sequential(nn.Conv2d(1, 16, 3, padding=1),\n                                nn.ReLU(True),\n                                nn.MaxPool2d(2, 2))\n        \n        self.conv2 = nn.Sequential(nn.Conv2d(16, 32, 3, padding=1),\n                                nn.ReLU(True),\n                                nn.MaxPool2d(2, 2))\n        \n        self.conv3 = nn.Sequential(nn.Conv2d(32, 64, 3, padding=1),\n                                nn.ReLU(True),\n                                nn.MaxPool2d(2, 2))\n        \n        if self.net_type == 1:\n            self.fc1 = nn.Linear(64*3*3, 10)\n        else:\n            self.fc1 = nn.Sequential(nn.Linear(64*3*3, 500),\n                                nn.ReLU(True))\n        \n        self.fc2 = nn.Linear(500, 10)\n\n        self.dropout = nn.Dropout(0.25)\n\n    def forward(self, x):\n        # (batch_size, channels, Height, Width)\n        # x.shape == (32, 3, 28, 28)\n        x = self.conv1(x)\n        # x.shape == (32, 16, 14, 14)\n        x = self.conv2(x)\n        # x.shape == (32, 32, 7, 7)\n        x = self.conv3(x)\n        # x.shape == (32, 64, 3, 3)\n        # transforma a imagem num vetor bidimensional (flatten)\n        # 64 canais x 3H x 3W\n        x = x.view(-1, 64*3*3)\n\n        x = self.dropout(x)\n\n        if self.net_type == 1:\n            return self.fc1(x)\n\n        x = self.fc1(x)\n        x = self.fc2(x)\n\n        return x",
   "execution_count": null,
   "outputs": []
  },
  {
   "cell_type": "markdown",
   "source": "Usaremos a Cross Entropy Loss como a função custo",
   "metadata": {
    "tags": [],
    "cell_id": "00012-82923792-3e48-4402-9027-fe64149db3af",
    "deepnote_cell_type": "markdown"
   }
  },
  {
   "cell_type": "code",
   "metadata": {
    "id": "AmAMXsCZpqNf",
    "cell_id": "00012-a323266c-e7b3-4cc8-bdb7-d68ffcee6415",
    "deepnote_cell_type": "code"
   },
   "source": "criterion = nn.CrossEntropyLoss()",
   "execution_count": null,
   "outputs": []
  },
  {
   "cell_type": "markdown",
   "source": "## Treinamento e calibragem de hiperparâmetros",
   "metadata": {
    "tags": [],
    "is_collapsed": false,
    "cell_id": "00014-c1e0193c-edc0-43aa-ae5d-6a7812ee193a",
    "deepnote_cell_type": "text-cell-h2"
   }
  },
  {
   "cell_type": "markdown",
   "source": "Para otimizar os resultados obtidos, selecionamos 3 parâmetros para variar entre os seguintes valores:\n- **Learning rate**: 0.001, 0.003, 0.0001 e 0.0003\n- **Optimizador**: SGD e Adam\n- **Tipo da rede**: 1 e 2 (como definidos acima)\n\nE será rodado um total de 4x2x2 combinações diferentes.",
   "metadata": {
    "tags": [],
    "cell_id": "00015-b582435d-83b3-48bf-81a4-9e27e41c37d3",
    "deepnote_cell_type": "markdown"
   }
  },
  {
   "cell_type": "code",
   "metadata": {
    "id": "ceTo2UI63VY-",
    "cell_id": "00014-3e6c4ff9-cd73-4f13-9833-b45910e7ff40",
    "deepnote_cell_type": "code"
   },
   "source": "learning_rates = [0.001, 0.003, 0.0001, 0.0003]\noptimizers = [optim.SGD, optim.Adam]\nnet_type = [1, 2]",
   "execution_count": null,
   "outputs": []
  },
  {
   "cell_type": "code",
   "metadata": {
    "id": "Ipntf_R85m2w",
    "cell_id": "00015-57683011-4f4f-48fd-aa03-71e0d6cda456",
    "deepnote_cell_type": "code"
   },
   "source": "best_hyperparams = ()\nbest_loss = np.inf",
   "execution_count": null,
   "outputs": []
  },
  {
   "cell_type": "code",
   "metadata": {
    "id": "PS4k0qBcNTMS",
    "cell_id": "00016-0206c5b2-440b-4978-8559-549954b6e510",
    "deepnote_cell_type": "code"
   },
   "source": "def train(learning_rate, optimizer, net_type):\n    print(f\"learning rate: {learning_rate} \\t optimizer: {optimizer} \\t net type: {net_type}\")\n    model = CNN(net_type=net_type)\n\n    if use_gpu:\n        torch.cuda.init()\n        model.cuda()\n        cudnn.benchmark = True\n    \n    opt = optimizer(model.parameters(), lr=learning_rate)\n\n    n_epocas = 30\n    train_losses = []\n    val_losses = []\n\n\n    for epoca in range(n_epocas):\n        loss_treino = 0\n\n        model.train()\n        for x, y in train_loader:\n            # ipdb.set_trace()\n            if use_gpu:\n                x, y = x.cuda(), y.cuda()\n\n            opt.zero_grad()\n\n            pred = model(x)\n            # ipdb.set_trace()\n            loss = criterion(pred, y)\n\n            loss.backward()\n\n            opt.step()\n            loss_treino += loss\n\n        loss_treino = loss_treino/len(train_loader.dataset)\n        train_losses.append(loss_treino)\n\n        loss_val = 0\n        model.eval()\n        for x, y in val_loader:\n            if use_gpu:\n                x, y = x.cuda(), y.cuda()\n            \n            with torch.no_grad():\n                pred = model(x)\n\n                loss = criterion(pred, y)\n\n                loss_val += loss\n        loss_val = loss_val/len(val_loader.dataset)\n        val_losses.append(loss_val)\n\n\n        # print(f\"Epoca {epoca+1}/{n_epocas} \\t Loss de Treinamento: {loss_treino} \\t Loss de Validacao: {loss_val}\")\n\n    losses_slice = int(0.9 * n_epocas)\n    # train_losses = train_losses[losses_slice:]\n    val_losses = val_losses[losses_slice:]\n\n    val_losses = torch.mean(torch.stack(val_losses)).item()\n\n    # val_losses = val_losses[-1]\n\n    global best_loss\n    global best_hyperparams\n\n    if val_losses < best_loss:\n        best_loss = val_losses\n        best_hyperparams = (learning_rate, optimizer, net_type)",
   "execution_count": null,
   "outputs": []
  },
  {
   "cell_type": "code",
   "metadata": {
    "id": "kPCZLP3M6BcE",
    "cell_id": "00017-4caa72d9-250d-48cb-8185-23b7c34b3647",
    "deepnote_cell_type": "code"
   },
   "source": "for lr in learning_rates:\n    for opt in optimizers:\n        for nt in net_type:\n            train(lr, opt, nt)",
   "execution_count": null,
   "outputs": []
  },
  {
   "cell_type": "code",
   "metadata": {
    "colab": {
     "base_uri": "https://localhost:8080/"
    },
    "id": "lnWQy2IIDHXG",
    "outputId": "efab5328-89b8-4ed1-86f8-e5c023928962",
    "cell_id": "00018-32f2efb0-d299-4078-a27d-bebd16682824",
    "deepnote_cell_type": "code"
   },
   "source": "best_hyperparams, best_loss",
   "execution_count": null,
   "outputs": [
    {
     "output_type": "execute_result",
     "data": {
      "text/plain": "((0.0001, torch.optim.adam.Adam, 2), 0.024892589077353477)"
     },
     "metadata": {},
     "execution_count": 58
    }
   ]
  },
  {
   "cell_type": "markdown",
   "source": "#### Hiperparâmetros ótimos\n\nAo final da etapa de calibragem, encontramos como a melhor configuração com base na loss:\n- **Learning rate**: 0.0001\n- **Optimizador**: Adam\n- **Tipo da rede**: 2",
   "metadata": {
    "id": "WLM06bFMX7n1",
    "cell_id": "00019-fae9249b-1055-447a-9612-59b32ada6b59",
    "deepnote_cell_type": "markdown"
   }
  },
  {
   "cell_type": "markdown",
   "source": "### Treino\n\nCom os hiperparâmetros ótimos adquiridos na parte de calibração, iniciamos a etapa de treinamento da rede, monitorando a loss de treinamento e validação a cada época.",
   "metadata": {
    "id": "gdU5oUQ8YKta",
    "cell_id": "00020-ca5a4f03-17dd-4008-9991-0a9fc68f2e78",
    "deepnote_cell_type": "markdown"
   }
  },
  {
   "cell_type": "code",
   "metadata": {
    "colab": {
     "base_uri": "https://localhost:8080/"
    },
    "id": "iQPbuG0vXV4N",
    "outputId": "a674d3e3-7d25-4e2b-8c54-7961194c4636",
    "cell_id": "00021-8abd3754-1893-4be7-bc6a-864494d2f592",
    "deepnote_cell_type": "code"
   },
   "source": "model = CNN(net_type=2)\n\nif use_gpu:\n    torch.cuda.init()\n    model.cuda()\n    cudnn.benchmark = True\n\nopt = torch.optim.Adam(model.parameters(), lr=0.0001)\n\nn_epocas = 50\ntrain_losses = []\nval_losses = []\n\n\nfor epoca in range(n_epocas):\n    loss_treino = 0\n\n    model.train()\n    for x, y in train_loader:\n        if use_gpu:\n            x, y = x.cuda(), y.cuda()\n\n        opt.zero_grad()\n\n        pred = model(x)\n        loss = criterion(pred, y)\n\n        loss.backward()\n\n        opt.step()\n        loss_treino += loss\n\n    loss_treino = loss_treino/len(train_loader.dataset)\n    train_losses.append(loss_treino)\n\n    loss_val = 0\n    model.eval()\n    for x, y in val_loader:\n        if use_gpu:\n            x, y = x.cuda(), y.cuda()\n        \n        with torch.no_grad():\n            pred = model(x)\n\n            loss = criterion(pred, y)\n\n            loss_val += loss\n    loss_val = loss_val/len(val_loader.dataset)\n    val_losses.append(loss_val)\n\n    print(f\"Epoca {epoca+1}/{n_epocas} \\t Loss de Treinamento: {loss_treino} \\t Loss de Validacao: {loss_val}\")\n",
   "execution_count": null,
   "outputs": [
    {
     "output_type": "stream",
     "name": "stdout",
     "text": "Epoca 1/50 \t Loss de Treinamento: 0.0163589958101511 \t Loss de Validacao: 0.14855138957500458\nEpoca 2/50 \t Loss de Treinamento: 0.004654645919799805 \t Loss de Validacao: 0.0957166850566864\nEpoca 3/50 \t Loss de Treinamento: 0.0034751826897263527 \t Loss de Validacao: 0.07700323313474655\nEpoca 4/50 \t Loss de Treinamento: 0.0028441224712878466 \t Loss de Validacao: 0.06841122359037399\nEpoca 5/50 \t Loss de Treinamento: 0.0024278927594423294 \t Loss de Validacao: 0.0556107722222805\nEpoca 6/50 \t Loss de Treinamento: 0.002179165370762348 \t Loss de Validacao: 0.05337559059262276\nEpoca 7/50 \t Loss de Treinamento: 0.001928785932250321 \t Loss de Validacao: 0.04746825248003006\nEpoca 8/50 \t Loss de Treinamento: 0.0017383641097694635 \t Loss de Validacao: 0.047276370227336884\nEpoca 9/50 \t Loss de Treinamento: 0.0015676997136324644 \t Loss de Validacao: 0.0401548370718956\nEpoca 10/50 \t Loss de Treinamento: 0.0014370910357683897 \t Loss de Validacao: 0.041445292532444\nEpoca 11/50 \t Loss de Treinamento: 0.0013217837549746037 \t Loss de Validacao: 0.04002695530653\nEpoca 12/50 \t Loss de Treinamento: 0.0012461881851777434 \t Loss de Validacao: 0.042329687625169754\nEpoca 13/50 \t Loss de Treinamento: 0.0011411897139623761 \t Loss de Validacao: 0.03505026176571846\nEpoca 14/50 \t Loss de Treinamento: 0.0010443588253110647 \t Loss de Validacao: 0.03439199551939964\nEpoca 15/50 \t Loss de Treinamento: 0.0009604353690519929 \t Loss de Validacao: 0.04763452336192131\nEpoca 16/50 \t Loss de Treinamento: 0.0009178590262308717 \t Loss de Validacao: 0.03323919326066971\nEpoca 17/50 \t Loss de Treinamento: 0.0008426049607805908 \t Loss de Validacao: 0.034621044993400574\nEpoca 18/50 \t Loss de Treinamento: 0.0007999002700671554 \t Loss de Validacao: 0.0332343727350235\nEpoca 19/50 \t Loss de Treinamento: 0.0007408299716189504 \t Loss de Validacao: 0.03258676826953888\nEpoca 20/50 \t Loss de Treinamento: 0.0006942375912331045 \t Loss de Validacao: 0.032777298241853714\nEpoca 21/50 \t Loss de Treinamento: 0.0006297575309872627 \t Loss de Validacao: 0.03209713101387024\nEpoca 22/50 \t Loss de Treinamento: 0.0006094717537052929 \t Loss de Validacao: 0.03138253837823868\nEpoca 23/50 \t Loss de Treinamento: 0.0005757037433795631 \t Loss de Validacao: 0.02995654195547104\nEpoca 24/50 \t Loss de Treinamento: 0.0005378602654673159 \t Loss de Validacao: 0.03218131512403488\nEpoca 25/50 \t Loss de Treinamento: 0.0005245623760856688 \t Loss de Validacao: 0.03006565384566784\nEpoca 26/50 \t Loss de Treinamento: 0.0004813547129742801 \t Loss de Validacao: 0.03220584616065025\nEpoca 27/50 \t Loss de Treinamento: 0.0004477680195122957 \t Loss de Validacao: 0.031595345586538315\nEpoca 28/50 \t Loss de Treinamento: 0.00040112235001288354 \t Loss de Validacao: 0.030972030013799667\nEpoca 29/50 \t Loss de Treinamento: 0.0003889749350491911 \t Loss de Validacao: 0.033468782901763916\nEpoca 30/50 \t Loss de Treinamento: 0.0003988506505265832 \t Loss de Validacao: 0.03417486324906349\nEpoca 31/50 \t Loss de Treinamento: 0.0003629251732490957 \t Loss de Validacao: 0.03327568247914314\nEpoca 32/50 \t Loss de Treinamento: 0.0003712299221660942 \t Loss de Validacao: 0.033924560993909836\nEpoca 33/50 \t Loss de Treinamento: 0.00030236519523896277 \t Loss de Validacao: 0.03927087411284447\nEpoca 34/50 \t Loss de Treinamento: 0.0003297493967693299 \t Loss de Validacao: 0.03366924822330475\nEpoca 35/50 \t Loss de Treinamento: 0.00028586047119461 \t Loss de Validacao: 0.03113565593957901\nEpoca 36/50 \t Loss de Treinamento: 0.00028966329409740865 \t Loss de Validacao: 0.03250604495406151\nEpoca 37/50 \t Loss de Treinamento: 0.00026580505073070526 \t Loss de Validacao: 0.03395489230751991\nEpoca 38/50 \t Loss de Treinamento: 0.00027111783856526017 \t Loss de Validacao: 0.034476138651371\nEpoca 39/50 \t Loss de Treinamento: 0.0002452417684253305 \t Loss de Validacao: 0.03155176341533661\nEpoca 40/50 \t Loss de Treinamento: 0.0002443975827191025 \t Loss de Validacao: 0.03169854357838631\nEpoca 41/50 \t Loss de Treinamento: 0.00026253657415509224 \t Loss de Validacao: 0.03169979900121689\nEpoca 42/50 \t Loss de Treinamento: 0.00023119452816899866 \t Loss de Validacao: 0.029394472017884254\nEpoca 43/50 \t Loss de Treinamento: 0.00018905239994637668 \t Loss de Validacao: 0.03325702250003815\nEpoca 44/50 \t Loss de Treinamento: 0.0002247333904961124 \t Loss de Validacao: 0.03342350199818611\nEpoca 45/50 \t Loss de Treinamento: 0.00020839394710492343 \t Loss de Validacao: 0.036876749247312546\nEpoca 46/50 \t Loss de Treinamento: 0.00018070556689053774 \t Loss de Validacao: 0.03420042619109154\nEpoca 47/50 \t Loss de Treinamento: 0.0001848403480835259 \t Loss de Validacao: 0.03390246257185936\nEpoca 48/50 \t Loss de Treinamento: 0.000211800797842443 \t Loss de Validacao: 0.038115598261356354\nEpoca 49/50 \t Loss de Treinamento: 0.0001698582636890933 \t Loss de Validacao: 0.034031085669994354\nEpoca 50/50 \t Loss de Treinamento: 0.00013847521040588617 \t Loss de Validacao: 0.03755097836256027\n"
    }
   ]
  },
  {
   "cell_type": "markdown",
   "source": "## Resultados",
   "metadata": {
    "tags": [],
    "is_collapsed": false,
    "cell_id": "00024-b01fc4ea-ec6d-47de-b650-dc6d5d1f1c60",
    "deepnote_cell_type": "text-cell-h2"
   }
  },
  {
   "cell_type": "markdown",
   "source": "Com os dados obtidos do treinamento e da validação, obtemos a loss por época para análise do aprendizado. E com o modelo treinado, vamos classificar o conjunto de teste e avaliar os resultados com o classification report e a matriz de confusão",
   "metadata": {
    "tags": [],
    "cell_id": "00024-c02ab214-fa7b-4733-87fd-62b33706e2a5",
    "deepnote_cell_type": "markdown"
   }
  },
  {
   "cell_type": "code",
   "metadata": {
    "id": "8rpAXF75VaVs",
    "colab": {
     "base_uri": "https://localhost:8080/"
    },
    "outputId": "3bb277f1-c2e3-4532-b70a-bff9126cc1b8",
    "cell_id": "00023-0feee7b8-d7d3-4b0a-a229-eb58e7e3d831",
    "deepnote_cell_type": "code"
   },
   "source": "model.eval()\nloss_test = 0\ny_test = []\ny_pred = []\nwrongs = []\nfor x, y in test_loader:\n    if use_gpu:\n        x, y = x.cuda(), y.cuda()\n\n    pred = model(x)\n\n    loss = criterion(pred, y)\n  \n    loss_test += loss\n\n    _, pred = torch.max(pred, 1)\n\n    if y.item() !== pred.item():\n        wrongs.append({\n            \"x\": x,\n            \"y\": y,\n            \"pred\": pred\n        })\n\n    y_test.append(y.item())\n    y_pred.append(pred.item())\n\nwith open('wrongs', 'wb') as arquivo:\n    pickle.dump(wrongs, arquivo)\n\nprint(classification_report(y_test, y_pred))\nloss_test = loss_test/len(val_loader.dataset)\nprint(f\"Loss de teste: {loss_test}\")",
   "execution_count": null,
   "outputs": [
    {
     "output_type": "stream",
     "name": "stdout",
     "text": "              precision    recall  f1-score   support\n\n           0       0.99      1.00      1.00       980\n           1       1.00      1.00      1.00      1135\n           2       0.99      1.00      0.99      1032\n           3       1.00      0.99      1.00      1010\n           4       0.99      0.99      0.99       982\n           5       0.99      0.99      0.99       892\n           6       1.00      0.99      0.99       958\n           7       1.00      0.99      0.99      1028\n           8       0.99      0.99      0.99       974\n           9       0.99      0.99      0.99      1009\n\n    accuracy                           0.99     10000\n   macro avg       0.99      0.99      0.99     10000\nweighted avg       0.99      0.99      0.99     10000\n\nLoss de teste: 0.024115225300192833\n"
    }
   ]
  },
  {
   "cell_type": "markdown",
   "source": "##### Taxas de acerto totais\n- *Accuracy* : 0.99\n- *Precision* : 0.99 \n- *Recall* : 0.99",
   "metadata": {
    "tags": [],
    "cell_id": "00027-17e4d06d-abbd-4516-99ec-0cbb35dcf2da",
    "deepnote_cell_type": "markdown"
   }
  },
  {
   "cell_type": "markdown",
   "source": "##### Comparação dos taxas de acerto\n\nComparando o classification report do CNN com a do MLP, podemos perceber uma grande melhora na performance. \n\nEncontramos com o CNN taxas totais de *accuracy*, *precision* e *recall* de **0.99**, enquanto as taxas totais de *accuracy*, *precision* e *recall* do MLP eram de **0.96**.\nTambém no classification report podemos perceber que as taxas de acerto por classe do CNN são muito mais uniformes, variando entre **0.99 e 1.00**, enquanto as do MLP variam entre **0.93 e 0.98**. \n\n![MLP Classification Report](MLP_Classification_Report.png)",
   "metadata": {
    "tags": [],
    "cell_id": "00028-2873a5ca-ff11-47c0-bf33-7d053b978110",
    "deepnote_cell_type": "markdown"
   }
  },
  {
   "cell_type": "markdown",
   "source": "#### Matriz de confusão\n\nMatriz de confusão dos resultados da CNN, abaixo: resultado esperado x resposta da CNN.",
   "metadata": {
    "tags": [],
    "cell_id": "00027-31a06cae-3afd-46d4-af2e-dd8e9be29817",
    "deepnote_cell_type": "markdown"
   }
  },
  {
   "cell_type": "code",
   "metadata": {
    "colab": {
     "base_uri": "https://localhost:8080/",
     "height": 580
    },
    "id": "LRjR9PG7AYLl",
    "outputId": "4cbc8362-ccd1-41b7-a2b2-a99047879b9d",
    "cell_id": "00024-c809b222-ba98-4f6a-a38a-c7c95c2099e1",
    "deepnote_cell_type": "code"
   },
   "source": "cm = confusion_matrix(y_test, y_pred)\nclasses = list(map(lambda x: str(x), range(10)))\n\nfig, ax = plot_confusion_matrix(conf_mat=cm, colorbar=True, class_names=classes, figsize=(10, 10), cmap='YlGn')\nax.set_title(\"CNN Confusion Matrix\")\nplt.show()",
   "execution_count": null,
   "outputs": [
    {
     "output_type": "display_data",
     "data": {
      "image/png": "[encoded data removed]",
      "text/plain": "<Figure size 720x720 with 2 Axes>"
     },
     "metadata": {
      "needs_background": "light",
      "image/png": {
       "width": 575,
       "height": 563
      }
     }
    }
   ]
  },
  {
   "cell_type": "markdown",
   "source": "Como pode ser observado, o modelo obteve uma performance boa, com os únicos pontos a se destacar sendo 6 previsões erradas do 9 para o 4, e 7 previsões erradas do 3 para o 5.\n\nPodemos plotar esses caracteres preditos errados para ver se são erros razoáveis de ocorrer numa rede, podendo até ter confusão para um ser humano.",
   "metadata": {
    "tags": [],
    "cell_id": "00031-ab7cb780-b0f7-4821-9cd9-a78e62bdb726",
    "deepnote_cell_type": "markdown"
   }
  },
  {
   "cell_type": "code",
   "metadata": {
    "tags": [],
    "cell_id": "00031-61f93c27-ea2b-4fb6-b8cd-94149278e441",
    "deepnote_to_be_reexecuted": false,
    "source_hash": "ec71ed37",
    "execution_start": 1636077110410,
    "execution_millis": 283,
    "deepnote_cell_type": "code"
   },
   "source": "with open('wrongs', 'rb') as arquivo:\n    wrongs = pickle.load(arquivo)",
   "execution_count": null,
   "outputs": []
  },
  {
   "cell_type": "code",
   "metadata": {
    "tags": [],
    "cell_id": "00033-58676260-ebbf-48ae-874a-e27c80a0a654",
    "deepnote_to_be_reexecuted": false,
    "source_hash": "c9d8f338",
    "execution_start": 1636077112363,
    "execution_millis": 2,
    "deepnote_cell_type": "code"
   },
   "source": "def plot_wrong(wrong):\n    pred = wrong[\"pred\"].numpy()\n    x = wrong[\"x\"].numpy()\n    y = wrong[\"y\"].numpy()\n\n    plt.imshow(x[0][0], cmap='gray')\n    print(f'Label: {y[0]} \\t Pred: {pred[0]}')",
   "execution_count": null,
   "outputs": []
  },
  {
   "cell_type": "code",
   "metadata": {
    "tags": [],
    "cell_id": "00034-7954a31d-b59c-4cf2-a6d3-486180abdc72",
    "deepnote_to_be_reexecuted": false,
    "source_hash": "87bcb73b",
    "execution_start": 1636077113900,
    "execution_millis": 362,
    "deepnote_cell_type": "code"
   },
   "source": "plot_wrong(wrongs[1])",
   "execution_count": null,
   "outputs": [
    {
     "name": "stdout",
     "text": "Label: 3 \t Pred: 5\n",
     "output_type": "stream"
    },
    {
     "data": {
      "text/plain": "<Figure size 432x288 with 1 Axes>",
      "image/png": "[encoded data removed]"
     },
     "metadata": {
      "needs_background": "light",
      "image/png": {
       "width": 251,
       "height": 248
      }
     },
     "output_type": "display_data"
    }
   ]
  },
  {
   "cell_type": "code",
   "metadata": {
    "tags": [],
    "cell_id": "00035-8c190eb4-75e9-430b-b604-3e35ad02bf45",
    "deepnote_to_be_reexecuted": false,
    "source_hash": "d661afb7",
    "execution_start": 1636077117239,
    "execution_millis": 202,
    "deepnote_cell_type": "code"
   },
   "source": "plot_wrong(wrongs[4])",
   "execution_count": null,
   "outputs": [
    {
     "name": "stdout",
     "text": "Label: 8 \t Pred: 9\n",
     "output_type": "stream"
    },
    {
     "data": {
      "text/plain": "<Figure size 432x288 with 1 Axes>",
      "image/png": "[encoded data removed]"
     },
     "metadata": {
      "needs_background": "light",
      "image/png": {
       "width": 251,
       "height": 248
      }
     },
     "output_type": "display_data"
    }
   ]
  },
  {
   "cell_type": "markdown",
   "source": "##### Comparação das matrizes de confusão\n\nComparando as matrizes do CNN com a do MLP, também podemos perceber uma grande melhora na performance. \n\nNa matriz de  confusão do CNN, os casos de *predicted labels* incorretos são escassos, já na matriz de confusão do MLP estes casos se tornaram mais frequentes em relação a da CNN.\n\n![MLP Confusion Matrix](MLP_Confusion_Matrix.png)",
   "metadata": {
    "tags": [],
    "cell_id": "00031-b457c899-5093-43b6-be4f-87cbdc83d02f",
    "deepnote_cell_type": "markdown"
   }
  },
  {
   "cell_type": "markdown",
   "source": "#### Loss por época\n\nGráfico da loss por época nos conjutos de validação e de treino.",
   "metadata": {
    "tags": [],
    "cell_id": "00029-dba0ddc0-4cd0-4f6f-8570-c825b611ab84",
    "deepnote_cell_type": "markdown"
   }
  },
  {
   "cell_type": "code",
   "metadata": {
    "colab": {
     "base_uri": "https://localhost:8080/",
     "height": 606
    },
    "id": "iq5LGT4jzhbm",
    "outputId": "8a580668-b5f3-4278-b43e-efb8e143155e",
    "cell_id": "00025-539b83fb-0bf5-4994-a370-f7b9f2bc21ac",
    "deepnote_cell_type": "code"
   },
   "source": "plt.figure(figsize=(10,10))\nax1 = plt.subplot()\n\nt = list(range(50))\n#x = t\n#y = s1/s2\nline1, = ax1.plot(t, train_losses, label='Loss on train data')\n\nline2, = ax1.plot(t, val_losses, label='Loss on validation data')\n\n# ax1.set_xlim(0, 30)\n# ax1.set_ylim(0.9, 1)\nax1.set_xlabel('Epochs')\nax1.set_ylabel('Loss')\nax1.grid(True)\n\nax1.legend()\nplt.show()",
   "execution_count": null,
   "outputs": [
    {
     "output_type": "display_data",
     "data": {
      "image/png": "[encoded data removed]",
      "text/plain": "<Figure size 720x720 with 1 Axes>"
     },
     "metadata": {
      "needs_background": "light",
      "image/png": {
       "width": 615,
       "height": 589
      }
     }
    }
   ]
  },
  {
   "cell_type": "markdown",
   "source": "##### Análise de generalização\nInterpretando o gráfico de loss por época, podemos assumir uma baixa variância com base na distância entre as curvas de treino e validação. E podemos assumir um baixo *bias* com base na distância da curva de treino para 0.00. Com isso, podemos assumir que não está ocorrendo *underfitting*, nem *overfitting*.\n\nLogo, podemos perceber que nosso modelo tem uma boa generalização. Como também pode ser observado pela performace no conjunto de testes.",
   "metadata": {
    "tags": [],
    "cell_id": "00032-eb383709-962a-4c09-b5d8-1911707988f4",
    "deepnote_cell_type": "markdown"
   }
  },
  {
   "cell_type": "markdown",
   "source": "",
   "metadata": {
    "tags": [],
    "cell_id": "00032-c0b6c6e6-b984-4b17-88ab-ba46df95865d",
    "deepnote_cell_type": "markdown"
   }
  },
  {
   "cell_type": "markdown",
   "source": "<a style='text-decoration:none;line-height:16px;display:flex;color:#5B5B62;padding:10px;justify-content:end;' href='https://deepnote.com?utm_source=created-in-deepnote-cell&projectId=f9bcf13e-bf05-46ce-ab96-502b8a23123f' target=\"_blank\">\n<img alt='Created in deepnote.com' style='display:inline;max-height:16px;margin:0px;margin-right:7.5px;' src='data:image/svg+xml;base64,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' > </img>\nCreated in <span style='font-weight:600;margin-left:4px;'>Deepnote</span></a>",
   "metadata": {
    "tags": [],
    "created_in_deepnote_cell": true,
    "deepnote_cell_type": "markdown"
   }
  }
 ],
 "nbformat": 4,
 "nbformat_minor": 0,
 "metadata": {
  "colab": {
   "name": "redes_convolucionais.ipynb",
   "provenance": [],
   "collapsed_sections": []
  },
  "kernelspec": {
   "name": "python3",
   "display_name": "Python 3"
  },
  "language_info": {
   "name": "python"
  },
  "accelerator": "GPU",
  "deepnote_notebook_id": "3f5fc1e6-67d3-4ee3-a179-9a81174a1026",
  "deepnote": {},
  "deepnote_execution_queue": []
 }
}